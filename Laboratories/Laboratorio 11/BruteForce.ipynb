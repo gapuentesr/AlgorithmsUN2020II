{
  "nbformat": 4,
  "nbformat_minor": 0,
  "metadata": {
    "colab": {
      "name": "BruteForce.ipynb",
      "provenance": [],
      "collapsed_sections": []
    },
    "kernelspec": {
      "name": "python3",
      "display_name": "Python 3"
    }
  },
  "cells": [
    {
      "cell_type": "markdown",
      "metadata": {
        "id": "wD9vwHYi63yK"
      },
      "source": [
        "<h1>Laboratorio 11</h1>\r\n",
        "<h2>Gustavo Alberto Puentes Romero</h2>\r\n"
      ]
    },
    {
      "cell_type": "markdown",
      "metadata": {
        "id": "Sr9u-7247oRw"
      },
      "source": [
        "> <h2>Ehab</h2>\r\n",
        "\r\n",
        ">> <h3>Using Brute Force</h3>\r\n",
        "\r\n",
        "\r\n",
        "\r\n"
      ]
    },
    {
      "cell_type": "code",
      "metadata": {
        "colab": {
          "base_uri": "https://localhost:8080/"
        },
        "id": "_OzTwGAV413F",
        "outputId": "70612063-cf3f-438a-b55f-bb39fc7916fd"
      },
      "source": [
        "x = int(input())\r\n",
        "\r\n",
        "def punto1(x):\r\n",
        "  for b in range(1,x+1):\r\n",
        "    for a in range (1,101):\\\r\n",
        "\r\n",
        "      if(a%b==0 and ((a*b)>x) and (a/b)<x):\r\n",
        "        return a,b\r\n",
        "\r\n",
        "  return -1, -1\r\n",
        "\r\n",
        "a, b = punto1(x)\r\n",
        "\r\n",
        "if(a<0):\r\n",
        "  print(a)\r\n",
        "else:\r\n",
        "  print(a,b)"
      ],
      "execution_count": 1,
      "outputs": [
        {
          "output_type": "stream",
          "text": [
            "20\n",
            "12 2\n"
          ],
          "name": "stdout"
        }
      ]
    },
    {
      "cell_type": "markdown",
      "metadata": {
        "id": "0Hx87C7k8Ny4"
      },
      "source": [
        ">> <h3>Using a Better Search</h3>"
      ]
    },
    {
      "cell_type": "code",
      "metadata": {
        "colab": {
          "base_uri": "https://localhost:8080/"
        },
        "id": "V1n8rWJ88RuQ",
        "outputId": "5455e7fb-1c1c-4047-a7a5-5f16f3ec7dfd"
      },
      "source": [
        "x = int(input())\r\n",
        "\r\n",
        "def punto2(x):\r\n",
        "  for b in range(1,x+1):\r\n",
        "    inicio_factible = (x//b) \r\n",
        "    inicio_optimo = (inicio_factible//b)*b + b\r\n",
        "\r\n",
        "    for a in range (inicio_optimo, min(100,(x*b)), b):\r\n",
        "\r\n",
        "        if ( (a*b) > x and (a/b)<x):\r\n",
        "          return a,b\r\n",
        "\r\n",
        "  return -1, -1\r\n",
        "\r\n",
        "a, b = punto2(x)\r\n",
        "\r\n",
        "if(a<0):\r\n",
        "  print(a)\r\n",
        "else:\r\n",
        "  print(a,b)"
      ],
      "execution_count": 2,
      "outputs": [
        {
          "output_type": "stream",
          "text": [
            "20\n",
            "12 2\n"
          ],
          "name": "stdout"
        }
      ]
    },
    {
      "cell_type": "markdown",
      "metadata": {
        "id": "uHRxNCYx8u7f"
      },
      "source": [
        ">> <h3>Using the two one step forms</h3>"
      ]
    },
    {
      "cell_type": "code",
      "metadata": {
        "colab": {
          "base_uri": "https://localhost:8080/"
        },
        "id": "xKFuDs2q85NW",
        "outputId": "da72b035-0b9a-493e-8481-1f7b98cd4bed"
      },
      "source": [
        "x = int(input())\r\n",
        "if(x>1):\r\n",
        "  print(x,x)\r\n",
        "else:\r\n",
        "  print(-1)"
      ],
      "execution_count": 3,
      "outputs": [
        {
          "output_type": "stream",
          "text": [
            "20\n",
            "20 20\n"
          ],
          "name": "stdout"
        }
      ]
    },
    {
      "cell_type": "markdown",
      "metadata": {
        "id": "AQarkLfd9iP3"
      },
      "source": [
        ">> <h3>Using the two one step forms</h3>"
      ]
    },
    {
      "cell_type": "code",
      "metadata": {
        "colab": {
          "base_uri": "https://localhost:8080/"
        },
        "id": "jGwjnfCbF-Er",
        "outputId": "58623a98-efcd-4435-eb65-b9315b134b8c"
      },
      "source": [
        "import math\r\n",
        "\r\n",
        "def punto3(x):\r\n",
        "  if ( (math.floor(x/2)+1) % 2 == 0):\r\n",
        "    return (math.floor(x/2)+1, 2)\r\n",
        "  else:\r\n",
        "    return (math.floor(x/2)+2, 2)\r\n",
        "\r\n",
        "x = int(input())\r\n",
        "\r\n",
        "if(x>1):\r\n",
        "  a, b = punto3(x)\r\n",
        "  print(a, b)\r\n",
        "else:\r\n",
        "  print(-1)"
      ],
      "execution_count": 4,
      "outputs": [
        {
          "output_type": "stream",
          "text": [
            "20\n",
            "12 2\n"
          ],
          "name": "stdout"
        }
      ]
    },
    {
      "cell_type": "markdown",
      "metadata": {
        "id": "MO0HODwN927G"
      },
      "source": [
        "> <h2>Subset Sum</h2>"
      ]
    },
    {
      "cell_type": "code",
      "metadata": {
        "id": "3D-GIZgw-PMX"
      },
      "source": [
        "import signal\r\n",
        "import itertools\r\n",
        "from time import time"
      ],
      "execution_count": 5,
      "outputs": []
    },
    {
      "cell_type": "code",
      "metadata": {
        "id": "aCKIXdE--BD-"
      },
      "source": [
        "class TimeoutError(Exception):\r\n",
        "    def __init__(self, value=\"Timed Out\"):\r\n",
        "        self.value = value\r\n",
        "\r\n",
        "    def __str__(self):\r\n",
        "        return repr(self.value)\r\n",
        "\r\n",
        "def timeout(seconds_before_timeout):\r\n",
        "    def decorate(f):\r\n",
        "        def handler(signum, frame):\r\n",
        "            raise TimeoutError()\r\n",
        "\r\n",
        "        def new_f(*args, **kwargs):\r\n",
        "            old = signal.signal(signal.SIGALRM, handler)\r\n",
        "            signal.alarm(seconds_before_timeout)\r\n",
        "            try:\r\n",
        "                result = f(*args, **kwargs)\r\n",
        "            finally:\r\n",
        "                signal.signal(signal.SIGALRM, old)\r\n",
        "            signal.alarm(0)\r\n",
        "            return result\r\n",
        "\r\n",
        "        new_f.func_name = f.func_name\r\n",
        "        return new_f\r\n",
        "\r\n",
        "    return decorate"
      ],
      "execution_count": 6,
      "outputs": []
    },
    {
      "cell_type": "code",
      "metadata": {
        "id": "EiabV_6f-ERW"
      },
      "source": [
        "timeout(5 * 60)\r\n",
        "def bruteforce(x_list, target):\r\n",
        "    possiblities = []\r\n",
        "    for x in powerset(x_list):\r\n",
        "        possiblities.append((x, sum(x)))\r\n",
        "\r\n",
        "    x_list, actual_value = closest(possiblities, target)\r\n",
        "\r\n",
        "    return (actual_value, x_list)\r\n",
        "\r\n",
        "def powerset(iterable):\r\n",
        "    s = list(iterable)\r\n",
        "    return itertools.chain.from_iterable(itertools.combinations(s, r) for r in range(len(s) + 1))\r\n",
        "\r\n",
        "def closest(possiblities, target):\r\n",
        "    return min((abs(target - total), (o_list, total))\r\n",
        "               for o_list, total in possiblities)[1]"
      ],
      "execution_count": 7,
      "outputs": []
    },
    {
      "cell_type": "code",
      "metadata": {
        "colab": {
          "base_uri": "https://localhost:8080/",
          "height": 1000
        },
        "id": "abpT40b3-GqF",
        "outputId": "e8c66151-cf37-4ba0-8fcc-c1f7abfd5d0e"
      },
      "source": [
        "x_list = []\r\n",
        "target = 1000\r\n",
        "\r\n",
        "for i in range(1,1000):\r\n",
        "  x_list.append(i)\r\n",
        "  print(\"Prueba para el caso \" + str(i))\r\n",
        "  brutefo = bruteforce(x_list, target)\r\n",
        "  print(brutefo)"
      ],
      "execution_count": 8,
      "outputs": [
        {
          "output_type": "stream",
          "text": [
            "Prueba para el caso 1\n",
            "(1, (1,))\n",
            "Prueba para el caso 2\n",
            "(3, (1, 2))\n",
            "Prueba para el caso 3\n",
            "(6, (1, 2, 3))\n",
            "Prueba para el caso 4\n",
            "(10, (1, 2, 3, 4))\n",
            "Prueba para el caso 5\n",
            "(15, (1, 2, 3, 4, 5))\n",
            "Prueba para el caso 6\n",
            "(21, (1, 2, 3, 4, 5, 6))\n",
            "Prueba para el caso 7\n",
            "(28, (1, 2, 3, 4, 5, 6, 7))\n",
            "Prueba para el caso 8\n",
            "(36, (1, 2, 3, 4, 5, 6, 7, 8))\n",
            "Prueba para el caso 9\n",
            "(45, (1, 2, 3, 4, 5, 6, 7, 8, 9))\n",
            "Prueba para el caso 10\n",
            "(55, (1, 2, 3, 4, 5, 6, 7, 8, 9, 10))\n",
            "Prueba para el caso 11\n",
            "(66, (1, 2, 3, 4, 5, 6, 7, 8, 9, 10, 11))\n",
            "Prueba para el caso 12\n",
            "(78, (1, 2, 3, 4, 5, 6, 7, 8, 9, 10, 11, 12))\n",
            "Prueba para el caso 13\n",
            "(91, (1, 2, 3, 4, 5, 6, 7, 8, 9, 10, 11, 12, 13))\n",
            "Prueba para el caso 14\n",
            "(105, (1, 2, 3, 4, 5, 6, 7, 8, 9, 10, 11, 12, 13, 14))\n",
            "Prueba para el caso 15\n",
            "(120, (1, 2, 3, 4, 5, 6, 7, 8, 9, 10, 11, 12, 13, 14, 15))\n",
            "Prueba para el caso 16\n",
            "(136, (1, 2, 3, 4, 5, 6, 7, 8, 9, 10, 11, 12, 13, 14, 15, 16))\n",
            "Prueba para el caso 17\n",
            "(153, (1, 2, 3, 4, 5, 6, 7, 8, 9, 10, 11, 12, 13, 14, 15, 16, 17))\n",
            "Prueba para el caso 18\n",
            "(171, (1, 2, 3, 4, 5, 6, 7, 8, 9, 10, 11, 12, 13, 14, 15, 16, 17, 18))\n",
            "Prueba para el caso 19\n",
            "(190, (1, 2, 3, 4, 5, 6, 7, 8, 9, 10, 11, 12, 13, 14, 15, 16, 17, 18, 19))\n",
            "Prueba para el caso 20\n",
            "(210, (1, 2, 3, 4, 5, 6, 7, 8, 9, 10, 11, 12, 13, 14, 15, 16, 17, 18, 19, 20))\n",
            "Prueba para el caso 21\n",
            "(231, (1, 2, 3, 4, 5, 6, 7, 8, 9, 10, 11, 12, 13, 14, 15, 16, 17, 18, 19, 20, 21))\n",
            "Prueba para el caso 22\n",
            "(253, (1, 2, 3, 4, 5, 6, 7, 8, 9, 10, 11, 12, 13, 14, 15, 16, 17, 18, 19, 20, 21, 22))\n",
            "Prueba para el caso 23\n",
            "(276, (1, 2, 3, 4, 5, 6, 7, 8, 9, 10, 11, 12, 13, 14, 15, 16, 17, 18, 19, 20, 21, 22, 23))\n",
            "Prueba para el caso 24\n",
            "(300, (1, 2, 3, 4, 5, 6, 7, 8, 9, 10, 11, 12, 13, 14, 15, 16, 17, 18, 19, 20, 21, 22, 23, 24))\n",
            "Prueba para el caso 25\n"
          ],
          "name": "stdout"
        },
        {
          "output_type": "error",
          "ename": "KeyboardInterrupt",
          "evalue": "ignored",
          "traceback": [
            "\u001b[0;31m---------------------------------------------------------------------------\u001b[0m",
            "\u001b[0;31mKeyboardInterrupt\u001b[0m                         Traceback (most recent call last)",
            "\u001b[0;32m<ipython-input-8-25de2bb6ccc9>\u001b[0m in \u001b[0;36m<module>\u001b[0;34m()\u001b[0m\n\u001b[1;32m      5\u001b[0m   \u001b[0mx_list\u001b[0m\u001b[0;34m.\u001b[0m\u001b[0mappend\u001b[0m\u001b[0;34m(\u001b[0m\u001b[0mi\u001b[0m\u001b[0;34m)\u001b[0m\u001b[0;34m\u001b[0m\u001b[0;34m\u001b[0m\u001b[0m\n\u001b[1;32m      6\u001b[0m   \u001b[0mprint\u001b[0m\u001b[0;34m(\u001b[0m\u001b[0;34m\"Prueba para el caso \"\u001b[0m \u001b[0;34m+\u001b[0m \u001b[0mstr\u001b[0m\u001b[0;34m(\u001b[0m\u001b[0mi\u001b[0m\u001b[0;34m)\u001b[0m\u001b[0;34m)\u001b[0m\u001b[0;34m\u001b[0m\u001b[0;34m\u001b[0m\u001b[0m\n\u001b[0;32m----> 7\u001b[0;31m   \u001b[0mbrutefo\u001b[0m \u001b[0;34m=\u001b[0m \u001b[0mbruteforce\u001b[0m\u001b[0;34m(\u001b[0m\u001b[0mx_list\u001b[0m\u001b[0;34m,\u001b[0m \u001b[0mtarget\u001b[0m\u001b[0;34m)\u001b[0m\u001b[0;34m\u001b[0m\u001b[0;34m\u001b[0m\u001b[0m\n\u001b[0m\u001b[1;32m      8\u001b[0m   \u001b[0mprint\u001b[0m\u001b[0;34m(\u001b[0m\u001b[0mbrutefo\u001b[0m\u001b[0;34m)\u001b[0m\u001b[0;34m\u001b[0m\u001b[0;34m\u001b[0m\u001b[0m\n",
            "\u001b[0;31mKeyboardInterrupt\u001b[0m: "
          ]
        }
      ]
    },
    {
      "cell_type": "markdown",
      "metadata": {
        "id": "YWbMOV_W-hgN"
      },
      "source": [
        "> <h2>The eight queens problem</h2>"
      ]
    },
    {
      "cell_type": "code",
      "metadata": {
        "colab": {
          "base_uri": "https://localhost:8080/"
        },
        "id": "oGjYsrJX-uUm",
        "outputId": "38478525-9220-4da7-b2d9-0676043b804e"
      },
      "source": [
        "global N \r\n",
        "N = 8\r\n",
        "  \r\n",
        "def printSolution(board): \r\n",
        "    for i in range(N): \r\n",
        "        for j in range(N): \r\n",
        "            print (board[i][j], end = \" \") \r\n",
        "        print() \r\n",
        "  \r\n",
        "def isSafe(board, row, col): \r\n",
        "  \r\n",
        "    for i in range(col): \r\n",
        "        if board[row][i] == 1: \r\n",
        "            return False\r\n",
        "  \r\n",
        "    for i, j in zip(range(row, -1, -1),  \r\n",
        "                    range(col, -1, -1)): \r\n",
        "        if board[i][j] == 1: \r\n",
        "            return False\r\n",
        "  \r\n",
        "    for i, j in zip(range(row, N, 1),  \r\n",
        "                    range(col, -1, -1)): \r\n",
        "        if board[i][j] == 1: \r\n",
        "            return False\r\n",
        "  \r\n",
        "    return True\r\n",
        "  \r\n",
        "def solveNQUtil(board, col): \r\n",
        "      \r\n",
        "    if col >= N: \r\n",
        "        return True\r\n",
        "\r\n",
        "    for i in range(N): \r\n",
        "  \r\n",
        "        if isSafe(board, i, col): \r\n",
        "              \r\n",
        "            board[i][col] = 1\r\n",
        "  \r\n",
        "            if solveNQUtil(board, col + 1) == True: \r\n",
        "                return True\r\n",
        "            board[i][col] = 0\r\n",
        "    return False\r\n",
        "  \r\n",
        "def solveNQ(): \r\n",
        "    board = [ [0, 0, 0, 0, 0, 0, 0, 0], \r\n",
        "              [0, 0, 0, 0, 0, 0, 0, 0], \r\n",
        "              [0, 0, 0, 0, 0, 0, 0, 0],\r\n",
        "              [0, 0, 0, 0, 0, 0, 0, 0],\r\n",
        "              [0, 0, 0, 0, 0, 0, 0, 0],\r\n",
        "              [0, 0, 0, 0, 0, 0, 0, 0],\r\n",
        "              [0, 0, 0, 0, 0, 0, 0, 0], \r\n",
        "              [0, 0, 0, 0, 0, 0, 0, 0] ] \r\n",
        "  \r\n",
        "    if solveNQUtil(board, 0) == False: \r\n",
        "        print (\"Solution does not exist\") \r\n",
        "        return False\r\n",
        "  \r\n",
        "    printSolution(board) \r\n",
        "    return True\r\n",
        "  \r\n",
        "solveNQ() \r\n",
        "  \r\n",
        "# This code is contributed by Divyanshu Mehta and modified by Gustavo Puentes"
      ],
      "execution_count": 9,
      "outputs": [
        {
          "output_type": "stream",
          "text": [
            "1 0 0 0 0 0 0 0 \n",
            "0 0 0 0 0 0 1 0 \n",
            "0 0 0 0 1 0 0 0 \n",
            "0 0 0 0 0 0 0 1 \n",
            "0 1 0 0 0 0 0 0 \n",
            "0 0 0 1 0 0 0 0 \n",
            "0 0 0 0 0 1 0 0 \n",
            "0 0 1 0 0 0 0 0 \n"
          ],
          "name": "stdout"
        },
        {
          "output_type": "execute_result",
          "data": {
            "text/plain": [
              "True"
            ]
          },
          "metadata": {
            "tags": []
          },
          "execution_count": 9
        }
      ]
    },
    {
      "cell_type": "code",
      "metadata": {
        "colab": {
          "base_uri": "https://localhost:8080/"
        },
        "id": "Xm-iGivQ-ztt",
        "outputId": "d45245ab-3244-44de-9abe-415f7efc7583"
      },
      "source": [
        "N = 8\r\n",
        "  \r\n",
        "ld = [0] * 30\r\n",
        "rd = [0] * 30\r\n",
        "cl = [0] * 30\r\n",
        "  \r\n",
        "def printSolution(board):  \r\n",
        "    for i in range(N): \r\n",
        "        for j in range(N): \r\n",
        "            print(board[i][j], end = \" \") \r\n",
        "        print()  \r\n",
        "  \r\n",
        "def solveNQUtil(board, col):  \r\n",
        "      \r\n",
        "    if (col >= N): \r\n",
        "        return True\r\n",
        "          \r\n",
        "    for i in range(N): \r\n",
        "          \r\n",
        "        if ((ld[i - col + N - 1] != 1 and \r\n",
        "             rd[i + col] != 1) and cl[i] != 1): \r\n",
        "                   \r\n",
        "            board[i][col] = 1\r\n",
        "            ld[i - col + N - 1] = rd[i + col] = cl[i] = 1\r\n",
        "              \r\n",
        "            if (solveNQUtil(board, col + 1)): \r\n",
        "                return True\r\n",
        "                  \r\n",
        "            board[i][col] = 0 # BACKTRACK  \r\n",
        "            ld[i - col + N - 1] = rd[i + col] = cl[i] = 0\r\n",
        "              \r\n",
        "    return False\r\n",
        "      \r\n",
        "def solveNQ(): \r\n",
        "    board = [ [0, 0, 0, 0, 0, 0, 0, 0], \r\n",
        "              [0, 0, 0, 0, 0, 0, 0, 0], \r\n",
        "              [0, 0, 0, 0, 0, 0, 0, 0],\r\n",
        "              [0, 0, 0, 0, 0, 0, 0, 0],\r\n",
        "              [0, 0, 0, 0, 0, 0, 0, 0],\r\n",
        "              [0, 0, 0, 0, 0, 0, 0, 0],\r\n",
        "              [0, 0, 0, 0, 0, 0, 0, 0], \r\n",
        "              [0, 0, 0, 0, 0, 0, 0, 0] ] \r\n",
        "    if (solveNQUtil(board, 0) == False): \r\n",
        "        printf(\"Solution does not exist\") \r\n",
        "        return False\r\n",
        "    printSolution(board) \r\n",
        "    return True\r\n",
        "      \r\n",
        "solveNQ()  \r\n",
        "  \r\n",
        "# This code is contributed by SHUBHAMSINGH10 and modified by Gustavo Puentes"
      ],
      "execution_count": 10,
      "outputs": [
        {
          "output_type": "stream",
          "text": [
            "1 0 0 0 0 0 0 0 \n",
            "0 0 0 0 0 0 1 0 \n",
            "0 0 0 0 1 0 0 0 \n",
            "0 0 0 0 0 0 0 1 \n",
            "0 1 0 0 0 0 0 0 \n",
            "0 0 0 1 0 0 0 0 \n",
            "0 0 0 0 0 1 0 0 \n",
            "0 0 1 0 0 0 0 0 \n"
          ],
          "name": "stdout"
        },
        {
          "output_type": "execute_result",
          "data": {
            "text/plain": [
              "True"
            ]
          },
          "metadata": {
            "tags": []
          },
          "execution_count": 10
        }
      ]
    }
  ]
}