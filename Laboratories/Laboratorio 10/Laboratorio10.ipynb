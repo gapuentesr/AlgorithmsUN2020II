{
  "nbformat": 4,
  "nbformat_minor": 0,
  "metadata": {
    "colab": {
      "name": "Untitled0.ipynb",
      "provenance": [],
      "collapsed_sections": []
    },
    "kernelspec": {
      "name": "python3",
      "display_name": "Python 3"
    }
  },
  "cells": [
    {
      "cell_type": "markdown",
      "metadata": {
        "id": "0PNMK7-1e_jb"
      },
      "source": [
        "<h1>Laboratorio 10</h1>\r\n",
        "<h2>Gustavo Alberto Puentes Romero</h2>\r\n",
        "\r\n"
      ]
    },
    {
      "cell_type": "markdown",
      "metadata": {
        "id": "hqa8QGzlfQ8g"
      },
      "source": [
        "> <h2>Bubble Sort distribution</h2>\r\n"
      ]
    },
    {
      "cell_type": "code",
      "metadata": {
        "id": "V45tl_ojeYT4"
      },
      "source": [
        "import matplotlib.pyplot as plt\r\n",
        "from itertools import permutations\r\n",
        "from itertools import chain"
      ],
      "execution_count": 54,
      "outputs": []
    },
    {
      "cell_type": "code",
      "metadata": {
        "id": "H35l4ToLf96j"
      },
      "source": [
        "def BubbleSort(arr):\r\n",
        "  cadenas=arr\r\n",
        "  numPasos=0\r\n",
        "  n=len(arr)\r\n",
        "  for i in range(n):\r\n",
        "    swapped = False\r\n",
        "\r\n",
        "    for j in reversed(range(i+1,n)):\r\n",
        "      numPasos+=1\r\n",
        "      if cadenas[j]<cadenas[j-1]:\r\n",
        "        cadenas[j], cadenas[j-1] = cadenas[j-1], cadenas[j]\r\n",
        "        \r\n",
        "  return [cadenas,numPasos]"
      ],
      "execution_count": 55,
      "outputs": []
    },
    {
      "cell_type": "code",
      "metadata": {
        "colab": {
          "base_uri": "https://localhost:8080/"
        },
        "id": "muke_z3ggD9w",
        "outputId": "b96b7a3b-590d-4264-c894-2e8825fc5384"
      },
      "source": [
        "arr=[3,4,7,8,9,1,2,100]\r\n",
        "cad=BubbleSort(arr)\r\n",
        "print(cad[0])"
      ],
      "execution_count": 56,
      "outputs": [
        {
          "output_type": "stream",
          "text": [
            "[1, 2, 3, 4, 7, 8, 9, 100]\n"
          ],
          "name": "stdout"
        }
      ]
    },
    {
      "cell_type": "code",
      "metadata": {
        "id": "GuhzN23hg1In"
      },
      "source": [
        "def BubbleSortOptimized(arr):\r\n",
        "  numPasos=0\r\n",
        "  cadenas=arr\r\n",
        "  n=len(arr)\r\n",
        "  for i in range(n):\r\n",
        "    swapped = False\r\n",
        "\r\n",
        "    for j in reversed(range(i+1,n)):\r\n",
        "      numPasos+=1\r\n",
        "      if cadenas[j]<cadenas[j-1]:\r\n",
        "        cadenas[j], cadenas[j-1] = cadenas[j-1], cadenas[j]\r\n",
        "        swapped=True\r\n",
        "    if swapped==False:\r\n",
        "      return [cadenas,numPasos]"
      ],
      "execution_count": 57,
      "outputs": []
    },
    {
      "cell_type": "code",
      "metadata": {
        "colab": {
          "base_uri": "https://localhost:8080/"
        },
        "id": "3pTRsZWfiPV_",
        "outputId": "d9736f75-f226-4e8f-edf7-ed4c2bdeadbb"
      },
      "source": [
        "arr=[3,4,7,2,1]\r\n",
        "cad=BubbleSortOptimized(arr)\r\n",
        "print(cad[1])"
      ],
      "execution_count": 58,
      "outputs": [
        {
          "output_type": "stream",
          "text": [
            "9\n"
          ],
          "name": "stdout"
        }
      ]
    },
    {
      "cell_type": "code",
      "metadata": {
        "colab": {
          "base_uri": "https://localhost:8080/",
          "height": 1000
        },
        "id": "KTlbJCMegXG_",
        "outputId": "298417ab-4f67-4a52-b91b-2511ca731df7"
      },
      "source": [
        "n=10\r\n",
        "#comienza en 2, no tiene sentido iniciar con listas de tamaño 1\r\n",
        "for i in range(2,n+1):\r\n",
        "  #se generan todas las permutaciones de tamaño i\r\n",
        "  p=permutations(range(i),i)\r\n",
        "  \r\n",
        "  y=[]\r\n",
        "  for j in list(p):\r\n",
        "    #se convierte la tupla en lista para que pueda ser procesada por la función\r\n",
        "    p=list(j)\r\n",
        "    #se agrega a la lista la cantidad de pasos de la funcion\r\n",
        "    y.append(BubbleSortOptimized(p)[1])\r\n",
        "    \r\n",
        "  plt.hist(y)\r\n",
        "  plt.title(\"BubbleSort para n=\"+repr(i),alpha=1)\r\n",
        "  plt.show()\r\n",
        "  plt.clf()\r\n",
        "  promedio=sum(y)/len(y)\r\n",
        "  print(\"Promedio pasos de BubbleSort para ordenar listas de tamaño \",i,\" es: \",\"{0:.4f}\".format(promedio),\"\\n\\n\")"
      ],
      "execution_count": 59,
      "outputs": [
        {
          "output_type": "display_data",
          "data": {
            "image/png": "[encoded data removed]",
            "text/plain": [
              "<Figure size 432x288 with 1 Axes>"
            ]
          },
          "metadata": {
            "tags": [],
            "needs_background": "light"
          }
        },
        {
          "output_type": "stream",
          "text": [
            "Promedio pasos de BubbleSort para ordenar listas de tamaño  2  es:  1.0000 \n",
            "\n",
            "\n"
          ],
          "name": "stdout"
        },
        {
          "output_type": "display_data",
          "data": {
            "image/png": "[encoded data removed]",
            "text/plain": [
              "<Figure size 432x288 with 1 Axes>"
            ]
          },
          "metadata": {
            "tags": [],
            "needs_background": "light"
          }
        },
        {
          "output_type": "stream",
          "text": [
            "Promedio pasos de BubbleSort para ordenar listas de tamaño  3  es:  2.8333 \n",
            "\n",
            "\n"
          ],
          "name": "stdout"
        },
        {
          "output_type": "display_data",
          "data": {
            "image/png": "[encoded data removed]",
            "text/plain": [
              "<Figure size 432x288 with 1 Axes>"
            ]
          },
          "metadata": {
            "tags": [],
            "needs_background": "light"
          }
        },
        {
          "output_type": "stream",
          "text": [
            "Promedio pasos de BubbleSort para ordenar listas de tamaño  4  es:  5.5833 \n",
            "\n",
            "\n"
          ],
          "name": "stdout"
        },
        {
          "output_type": "display_data",
          "data": {
            "image/png": "[encoded data removed]",
            "text/plain": [
              "<Figure size 432x288 with 1 Axes>"
            ]
          },
          "metadata": {
            "tags": [],
            "needs_background": "light"
          }
        },
        {
          "output_type": "stream",
          "text": [
            "Promedio pasos de BubbleSort para ordenar listas de tamaño  5  es:  9.2583 \n",
            "\n",
            "\n"
          ],
          "name": "stdout"
        },
        {
          "output_type": "display_data",
          "data": {
            "image/png": "[encoded data removed]",
            "text/plain": [
              "<Figure size 432x288 with 1 Axes>"
            ]
          },
          "metadata": {
            "tags": [],
            "needs_background": "light"
          }
        },
        {
          "output_type": "stream",
          "text": [
            "Promedio pasos de BubbleSort para ordenar listas de tamaño  6  es:  13.8778 \n",
            "\n",
            "\n"
          ],
          "name": "stdout"
        },
        {
          "output_type": "display_data",
          "data": {
            "image/png": "[encoded data removed]",
            "text/plain": [
              "<Figure size 432x288 with 1 Axes>"
            ]
          },
          "metadata": {
            "tags": [],
            "needs_background": "light"
          }
        },
        {
          "output_type": "stream",
          "text": [
            "Promedio pasos de BubbleSort para ordenar listas de tamaño  7  es:  19.4542 \n",
            "\n",
            "\n"
          ],
          "name": "stdout"
        },
        {
          "output_type": "display_data",
          "data": {
            "image/png": "[encoded data removed]",
            "text/plain": [
              "<Figure size 432x288 with 1 Axes>"
            ]
          },
          "metadata": {
            "tags": [],
            "needs_background": "light"
          }
        },
        {
          "output_type": "stream",
          "text": [
            "Promedio pasos de BubbleSort para ordenar listas de tamaño  8  es:  25.9953 \n",
            "\n",
            "\n"
          ],
          "name": "stdout"
        },
        {
          "output_type": "display_data",
          "data": {
            "image/png": "[encoded data removed]",
            "text/plain": [
              "<Figure size 432x288 with 1 Axes>"
            ]
          },
          "metadata": {
            "tags": [],
            "needs_background": "light"
          }
        },
        {
          "output_type": "stream",
          "text": [
            "Promedio pasos de BubbleSort para ordenar listas de tamaño  9  es:  33.5068 \n",
            "\n",
            "\n"
          ],
          "name": "stdout"
        },
        {
          "output_type": "display_data",
          "data": {
            "image/png": "[encoded data removed]",
            "text/plain": [
              "<Figure size 432x288 with 1 Axes>"
            ]
          },
          "metadata": {
            "tags": [],
            "needs_background": "light"
          }
        },
        {
          "output_type": "stream",
          "text": [
            "Promedio pasos de BubbleSort para ordenar listas de tamaño  10  es:  41.9932 \n",
            "\n",
            "\n"
          ],
          "name": "stdout"
        },
        {
          "output_type": "display_data",
          "data": {
            "text/plain": [
              "<Figure size 432x288 with 0 Axes>"
            ]
          },
          "metadata": {
            "tags": []
          }
        }
      ]
    }
  ]
}